{
 "cells": [
  {
   "cell_type": "code",
   "execution_count": null,
   "id": "66b318e3",
   "metadata": {},
   "outputs": [],
   "source": [
    "# Cell 1: Notebook Purpose\n",
    "# This notebook performs initial exploratory data analysis (EDA) on raw and processed datasets.\n",
    "# Outputs: Visualizations, summary statistics, and preliminary insights for feature engineering and modeling."
   ]
  },
  {
   "cell_type": "code",
   "execution_count": null,
   "id": "4133dd8e",
   "metadata": {},
   "outputs": [],
   "source": [
    "\n",
    "# Cell 2: Imports\n",
    "import pandas as pd\n",
    "import numpy as np\n",
    "import matplotlib.pyplot as plt\n",
    "import seaborn as sns\n",
    "from pathlib import Path"
   ]
  },
  {
   "cell_type": "code",
   "execution_count": null,
   "id": "d3a79a5c",
   "metadata": {},
   "outputs": [],
   "source": [
    "# Cell 3: Data Loading\n",
    "raw_path = Path(\"../data/raw/raw_price_data.csv\")\n",
    "processed_path = Path(\"../data/processed/cleaned_price_data.csv\")\n",
    "\n",
    "raw_df = pd.read_csv(raw_path, index_col=[0,1])  # Adjust index_col as needed\n",
    "processed_df = pd.read_csv(processed_path, index_col=[0,1])\n",
    "\n",
    "print(\"Raw data shape:\", raw_df.shape)\n",
    "print(\"Processed data shape:\", processed_df.shape)\n"
   ]
  },
  {
   "cell_type": "code",
   "execution_count": null,
   "id": "45ff7032",
   "metadata": {},
   "outputs": [],
   "source": [
    "# Cell 4: Descriptive Statistics\n",
    "display(raw_df.describe())\n",
    "display(processed_df.describe())\n"
   ]
  },
  {
   "cell_type": "code",
   "execution_count": null,
   "id": "b56c2cfa",
   "metadata": {},
   "outputs": [],
   "source": [
    "# Cell 5: Missing Values\n",
    "print(\"Raw missing values:\\n\", raw_df.isnull().sum())\n",
    "print(\"Processed missing values:\\n\", processed_df.isnull().sum())\n"
   ]
  },
  {
   "cell_type": "code",
   "execution_count": null,
   "id": "20c55c46",
   "metadata": {},
   "outputs": [],
   "source": [
    "# Cell 6: Visualize Price Distributions\n",
    "plt.figure(figsize=(10,5))\n",
    "sns.histplot(processed_df['Close'].dropna(), bins=100, kde=True)\n",
    "plt.title(\"Distribution of Close Prices (Processed Data)\")\n",
    "plt.show()"
   ]
  },
  {
   "cell_type": "code",
   "execution_count": null,
   "id": "3a4141c2",
   "metadata": {},
   "outputs": [],
   "source": [
    "# Cell 7: Time Series Plot for a Sample Ticker\n",
    "sample_ticker = processed_df.index.get_level_values(1).unique()[0]\n",
    "sample = processed_df.xs(sample_ticker, level=1)\n",
    "sample['Close'].plot(figsize=(12,4), title=f\"Close Price Time Series: {sample_ticker}\")\n",
    "plt.show()\n"
   ]
  },
  {
   "cell_type": "code",
   "execution_count": null,
   "id": "bfee8237",
   "metadata": {},
   "outputs": [],
   "source": [
    "# Cell 8: Correlation Matrix\n",
    "corr = processed_df.reset_index().pivot(index='date', columns='ticker', values='Close').corr()\n",
    "plt.figure(figsize=(12,10))\n",
    "sns.heatmap(corr, cmap='coolwarm', center=0)\n",
    "plt.title(\"Cross-Sectional Correlation of Close Prices\")\n",
    "plt.show()\n"
   ]
  },
  {
   "cell_type": "code",
   "execution_count": null,
   "id": "9327a277",
   "metadata": {},
   "outputs": [],
   "source": [
    "# Cell 9: Outlier Detection (Z-score)\n",
    "z_scores = (processed_df['Close'] - processed_df['Close'].mean()) / processed_df['Close'].std()\n",
    "outliers = processed_df[np.abs(z_scores) > 5]\n",
    "print(\"Number of outliers (z > 5):\", len(outliers))\n"
   ]
  }
 ],
 "metadata": {
  "kernelspec": {
   "display_name": ".venv",
   "language": "python",
   "name": "python3"
  },
  "language_info": {
   "name": "python",
   "version": "3.12.3"
  }
 },
 "nbformat": 4,
 "nbformat_minor": 5
}
